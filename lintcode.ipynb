{
 "cells": [
  {
   "cell_type": "heading",
   "metadata": {
    "collapsed": true
   },
   "level": 1,
   "source": [
    "lintcode - Combination Sum"
   ]
  },
  {
   "cell_type": "heading",
   "metadata": {},
   "level": 2,
   "source": [
    "Description:\n",
    "\n",
    "Given a set of candidate numbers (C) and a target number (T), find all unique combinations in C where the candidate numbers sums to T.\n",
    "\n",
    "The same repeated number may be chosen from C unlimited number of times.\n",
    "Notice\n",
    "\n",
    "    1. All numbers (including target) will be positive integers.\n",
    "    2. Elements in a combination (a1, a2, … , ak) must be in non-descending order. (ie, a1 ≤ a2 ≤ … ≤ ak).\n",
    "    3. The solution set must not contain duplicate combinations.\n",
    "\n"
   ]
  },
  {
   "cell_type": "heading",
   "metadata": {},
   "level": 2,
   "source": [
    "描述：\n",
    "给出一组候选数字(C)和目标数字(T),找到C中所有的组合，使找出的数字和为T。C中的数字可以无限制重复被选取。\n",
    "\n",
    "例如,给出候选数组[2,3,6,7]和目标数字7，所求的解为：\n",
    "\n",
    "[7]，\n",
    "\n",
    "[2,2,3]\n",
    "注意事项\n",
    "\n",
    "    1.所有的数字(包括目标数字)均为正整数。\n",
    "    2.元素组合(a1, a2, … , ak)必须是非降序(ie, a1 ≤ a2 ≤ … ≤ ak)。\n",
    "    3.解集不能包含重复的组合。 "
   ]
  },
  {
   "cell_type": "code",
   "execution_count": null,
   "metadata": {},
   "outputs": [],
   "source": [
    "class Solution:\n",
    "    # @param candidates, a list of integers\n",
    "    # @param target, integer\n",
    "    # @return a list of lists of integers\n",
    "    def combinationSum(self, candidates, target):\n",
    "        # write your code here\n",
    "        candidates.sort()  \n",
    "        path, result = [], []  \n",
    "        begin = 0  \n",
    "        self.helper(begin, candidates, target, path, result)  \n",
    "        return result  \n",
    "  \n",
    "    def helper(self, begin, candidates, target, path, result):  \n",
    "  \n",
    "        # 剪枝  \n",
    "        if sum(path) > target:  \n",
    "            return  \n",
    "  \n",
    "        # 若满足条件：先复制，再将复制的结果加入结果列表  \n",
    "        if sum(path) == target:  \n",
    "            temp = path[:]  \n",
    "            result.append(temp)  \n",
    "            return  \n",
    "  \n",
    "        for i in candidates[begin:]:  \n",
    "            path.append(i)  \n",
    "            # 带着半成品path继续探索：往这个半成品中添加元素，看能否成功  \n",
    "            self.helper(begin, candidates, target, path, result)  \n",
    "            # 返回上一层，自然要把这一层添加的值删去  \n",
    "            path.pop(-1)  \n",
    "            # 这一层的情况已经处理过了，所以不论是形成“成功”的组合，还是被“剪枝”，都应该从candidates  \n",
    "            # 的下一位开始，begin += 1  \n",
    "            begin += 1  \n",
    "        # write your code here  \n",
    "\n",
    "print Solution.combinationSum(self, [2, 3, 6, 7], 7)"
   ]
  },
  {
   "cell_type": "code",
   "execution_count": null,
   "outputs": [],
   "source": [
    ""
   ]
  }
 ],
 "metadata": {
  "kernelspec": {
   "display_name": "Python 2",
   "language": "python",
   "name": "python2"
  },
  "language_info": {
   "codemirror_mode": {
    "name": "ipython",
    "version": 2.0
   },
   "file_extension": ".py",
   "mimetype": "text/x-python",
   "name": "python",
   "nbconvert_exporter": "python",
   "pygments_lexer": "ipython2",
   "version": "2.7.6"
  }
 },
 "nbformat": 4,
 "nbformat_minor": 0
}